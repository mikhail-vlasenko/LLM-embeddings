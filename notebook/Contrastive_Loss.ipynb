{
 "cells": [
  {
   "cell_type": "code",
   "id": "ff119427",
   "metadata": {
    "ExecuteTime": {
     "end_time": "2024-09-29T19:29:25.537879Z",
     "start_time": "2024-09-29T19:29:21.264921Z"
    }
   },
   "source": [
    "# enable importing from parent directory\n",
    "import os\n",
    "import sys\n",
    "parent_dir = os.path.split(os.getcwd())[0]\n",
    "if parent_dir not in sys.path:\n",
    "    sys.path.append(parent_dir)\n",
    "\n",
    "# import other modules\n",
    "import torch\n",
    "import torch.nn as nn\n",
    "from torch.utils.data import Dataset, DataLoader\n",
    "import random\n",
    "import itertools\n",
    "from utils import load_embeddings"
   ],
   "outputs": [],
   "execution_count": 1
  },
  {
   "cell_type": "code",
   "id": "094c0d74",
   "metadata": {
    "ExecuteTime": {
     "end_time": "2024-09-29T20:19:27.054730Z",
     "start_time": "2024-09-29T20:19:27.049031Z"
    }
   },
   "source": [
    "class EmbeddingsDataset(Dataset):\n",
    "    def __init__(self, embedding_dict, prompt_type=\"eng\"):\n",
    "        \"\"\"\n",
    "        embedding_dict: the dict with all the embeddings\n",
    "        eng_prompt: if true, uses English prompting, otherwise self-prompting\n",
    "        \"\"\"\n",
    "        self.embedding_dict = embedding_dict\n",
    "        self.prompt_type = prompt_type\n",
    "        self.languages = list(embedding_dict.keys())\n",
    "        self.num_sencences, self.embedding_dim = embedding_dict[self.languages[0]].shape\n",
    "        \n",
    "    def __len__(self):\n",
    "        return self.num_sencences\n",
    "    \n",
    "    def __getitem__(self, idx):\n",
    "        \"\"\"\n",
    "        returns a dataset example of size (num_langs, emb_dim) which represents the embeddings of \n",
    "        the same sentence in each of the languages\n",
    "        \"\"\"\n",
    "        return torch.stack([torch.from_numpy(self.embedding_dict[lang][idx]) for lang in self.languages])\n",
    "\n",
    "def get_random_idx_pairs(batch_size, num_languages, num_pos_pairs, num_neg_pairs):\n",
    "    \"\"\"\n",
    "    returns a dict with positive and negative pairs of indices (a single index is a tuple (batch_idx, lang_idx)):\n",
    "    {\n",
    "        \"pos\": [(idx1, idx2), ...],\n",
    "        \"neg\": [(idx1, idx2), ...],\n",
    "    }\n",
    "    where e.g. idx1 is (batch_idx_1, lang_idx_1)\n",
    "    \"\"\"\n",
    "    all_pos_idx_pairs = [\n",
    "        ((b1, l1), (b2, l2))\n",
    "        for ((b1, l1), (b2, l2))\n",
    "        in list(itertools.combinations([(b, l) for b in range(batch_size) for l in range(num_languages)], 2))\n",
    "        if b1 == b2\n",
    "    ]\n",
    "    all_neg_idx_pairs = [\n",
    "        ((b1, l1), (b2, l2))\n",
    "        for ((b1, l1), (b2, l2))\n",
    "        in list(itertools.combinations([(b, l) for b in range(batch_size) for l in range(num_languages)], 2))\n",
    "        if b1 != b2\n",
    "    ]\n",
    "\n",
    "    return {\n",
    "        \"pos\": random.sample(all_pos_idx_pairs, num_pos_pairs),\n",
    "        \"neg\": random.sample(all_neg_idx_pairs, num_neg_pairs),\n",
    "    }\n",
    "\n",
    "def collate_fn(embeddings):\n",
    "    \"\"\"\n",
    "    embeddings: a tensor of size (batch_size, num_languages, embedding_dim)\n",
    "\n",
    "    returns a tuple of:\n",
    "    - a tensor of size (batch_size, embedding_dim)\n",
    "    - a list of positive index pairs\n",
    "    - a list of negative index pairs\n",
    "    \"\"\"\n",
    "    embeddings = torch.stack(embeddings)\n",
    "    batch_size, num_languages, _ = embeddings.shape\n",
    "    positive_coef = 2  # increasing this to 8 helps for the norm-based loss but not for the cosine-based loss\n",
    "    idx_pairs = get_random_idx_pairs(batch_size, num_languages, num_pos_pairs=batch_size // positive_coef, num_neg_pairs=batch_size * (positive_coef - 1) // positive_coef)\n",
    "    pos_idx_pairs, neg_idx_pairs = idx_pairs[\"pos\"], idx_pairs[\"neg\"]\n",
    "\n",
    "    output_embeddings = {}\n",
    "    for ((b1, l1), (b2, l2)) in pos_idx_pairs + neg_idx_pairs:\n",
    "        output_embeddings[(b1, l1)] = embeddings[b1, l1]\n",
    "        output_embeddings[(b2, l2)] = embeddings[b2, l2]\n",
    "    indices = list(output_embeddings.keys())\n",
    "    \n",
    "    # Convert index pairs\n",
    "    pos_idx_pairs = [(indices.index(idx1), indices.index(idx2)) for (idx1, idx2) in pos_idx_pairs]\n",
    "    neg_idx_pairs = [(indices.index(idx1), indices.index(idx2)) for (idx1, idx2) in neg_idx_pairs]\n",
    "    \n",
    "    return torch.stack(list(output_embeddings.values())), pos_idx_pairs, neg_idx_pairs"
   ],
   "outputs": [],
   "execution_count": 47
  },
  {
   "cell_type": "code",
   "id": "2023fc13",
   "metadata": {
    "ExecuteTime": {
     "end_time": "2024-09-29T20:19:27.253941Z",
     "start_time": "2024-09-29T20:19:27.229439Z"
    }
   },
   "source": [
    "prompt_type = \"english\"\n",
    "# prompt_type = \"self\"\n",
    "\n",
    "# load embedding dict\n",
    "embedding_dict = load_embeddings(f\"../embedding_{prompt_type}_prompts.pkl\")\n",
    "num_sentences, embedding_dim = embedding_dict[list(embedding_dict.keys())[0]].shape\n",
    "\n",
    "# define train,val,test sizes (70%, 30%)\n",
    "train_size, val_size = int(num_sentences*0.7), int(num_sentences*0.3)\n",
    "\n",
    "def get_split(embedding_dict, start_idx, end_idx):\n",
    "    return {k: v[start_idx:end_idx] for k, v in embedding_dict.items()}\n",
    "\n",
    "# make the datasets\n",
    "train_set = EmbeddingsDataset(get_split(embedding_dict, start_idx=0, end_idx=train_size), prompt_type=prompt_type)\n",
    "val_set = EmbeddingsDataset(get_split(embedding_dict, start_idx=train_size, end_idx=train_size + val_size), prompt_type=prompt_type)\n",
    "\n",
    "print(f\"Train size: {len(train_set)}\")\n",
    "print(f\"Val size: {len(val_set)}\")"
   ],
   "outputs": [
    {
     "name": "stdout",
     "output_type": "stream",
     "text": [
      "Train size: 708\n",
      "Val size: 303\n"
     ]
    }
   ],
   "execution_count": 48
  },
  {
   "cell_type": "code",
   "id": "2adc755f",
   "metadata": {
    "ExecuteTime": {
     "end_time": "2024-09-29T20:19:27.595367Z",
     "start_time": "2024-09-29T20:19:27.592197Z"
    }
   },
   "source": [
    "# Define the MLP\n",
    "class MLP(nn.Module):\n",
    "    def __init__(self, input_dim, hidden_dim, output_dim):\n",
    "        super(MLP, self).__init__()\n",
    "        self.fc1 = nn.Linear(input_dim, hidden_dim)\n",
    "        self.relu = nn.ReLU()\n",
    "        self.fc2 = nn.Linear(hidden_dim, output_dim)\n",
    "    \n",
    "    def forward(self, x):\n",
    "        x = self.fc1(x)\n",
    "        x = self.relu(x)\n",
    "        x = self.fc2(x)\n",
    "        return x\n"
   ],
   "outputs": [],
   "execution_count": 49
  },
  {
   "cell_type": "code",
   "id": "cb36f744",
   "metadata": {
    "ExecuteTime": {
     "end_time": "2024-09-29T20:19:28.142604Z",
     "start_time": "2024-09-29T20:19:28.139277Z"
    }
   },
   "source": [
    "# # Define the contrastive loss\n",
    "# def contrastive_loss(embeddings, pos_idx_pairs, neg_idx_pairs, margin=1.0):\n",
    "#     pos_loss = sum(\n",
    "#         torch.norm(embeddings[idx1] - embeddings[idx2], p=2) ** 2\n",
    "#         for idx1, idx2 in pos_idx_pairs\n",
    "#     )\n",
    "# \n",
    "#     neg_loss = sum(\n",
    "#         max(0, margin - torch.norm(embeddings[idx1] - embeddings[idx2], p=2)) ** 2\n",
    "#         for idx1, idx2 in neg_idx_pairs\n",
    "#     )\n",
    "# \n",
    "#     return (pos_loss + neg_loss) / (len(pos_idx_pairs) + len(neg_idx_pairs))\n",
    "\n",
    "def contrastive_loss(embeddings, pos_idx_pairs, neg_idx_pairs, margin=0.5):\n",
    "    cos = nn.CosineSimilarity(dim=0, eps=1e-6)\n",
    "\n",
    "    pos_loss = sum(\n",
    "        (1 - cos(embeddings[idx1], embeddings[idx2])) ** 2\n",
    "        for idx1, idx2 in pos_idx_pairs\n",
    "    )\n",
    "\n",
    "    neg_loss = sum(\n",
    "        max(0, cos(embeddings[idx1], embeddings[idx2]) - margin) ** 2\n",
    "        for idx1, idx2 in neg_idx_pairs\n",
    "    )\n",
    "\n",
    "    return (pos_loss + neg_loss) / (len(pos_idx_pairs) + len(neg_idx_pairs))"
   ],
   "outputs": [],
   "execution_count": 50
  },
  {
   "cell_type": "code",
   "id": "6e8a9b62",
   "metadata": {
    "ExecuteTime": {
     "end_time": "2024-09-29T20:22:16.323124Z",
     "start_time": "2024-09-29T20:22:01.853981Z"
    }
   },
   "source": [
    "from tqdm import tqdm\n",
    "\n",
    "epochs = 10\n",
    "batch_size = 32\n",
    "save_model_path = f\"../result/mlp_{prompt_type}_prompt.pt\"\n",
    "\n",
    "# make the dataloaders\n",
    "train_loader = DataLoader(train_set, batch_size=batch_size, shuffle=True, collate_fn=collate_fn, drop_last=True)\n",
    "val_loader = DataLoader(val_set, batch_size=batch_size, shuffle=False, collate_fn=collate_fn, drop_last=True)\n",
    "\n",
    "device = torch.device(\"cuda\" if torch.cuda.is_available() else \"cpu\")\n",
    "\n",
    "# make the MLP and optimizer\n",
    "mlp = MLP(input_dim=embedding_dim, hidden_dim=embedding_dim // 2, output_dim=embedding_dim // 2).to(device)\n",
    "optimizer = torch.optim.SGD(mlp.parameters(), lr=0.001)\n",
    "\n",
    "# training loop: \n",
    "training_losses, val_losses = [], []\n",
    "for epoch in range(1, epochs + 1):\n",
    "    \n",
    "    # train one epoch\n",
    "    mlp.train()\n",
    "    train_loss = 0.0\n",
    "    for embeddings, pos_idx_pairs, neg_idx_pairs in tqdm(train_loader, desc=f\"Train Epoch {epoch}\"):\n",
    "        optimizer.zero_grad()\n",
    "        embeddings = mlp(embeddings.to(device))\n",
    "        loss = contrastive_loss(embeddings, pos_idx_pairs, neg_idx_pairs)\n",
    "        loss.backward()\n",
    "        optimizer.step()\n",
    "        train_loss += loss.item()\n",
    "\n",
    "    # save training loss\n",
    "    training_losses.append(train_loss / len(train_loader))\n",
    "\n",
    "    # eval one epoch\n",
    "    mlp.eval()\n",
    "    val_loss = 0.0\n",
    "    for (embeddings, pos_idx_pairs, neg_idx_pairs) in tqdm(val_loader, desc=f\"Validation Epoch {epoch}\"):\n",
    "        embeddings = mlp(embeddings.to(device))\n",
    "        loss = contrastive_loss(embeddings, pos_idx_pairs, neg_idx_pairs)\n",
    "        val_loss += loss.item()\n",
    "    \n",
    "    # save val loss\n",
    "    val_losses.append(val_loss / len(val_loader))\n",
    "\n",
    "# save model\n",
    "torch.save(mlp, save_model_path)"
   ],
   "outputs": [
    {
     "name": "stderr",
     "output_type": "stream",
     "text": [
      "Train Epoch 1: 100%|██████████| 22/22 [00:01<00:00, 20.22it/s]\n",
      "Validation Epoch 1: 100%|██████████| 9/9 [00:00<00:00, 22.61it/s]\n",
      "Train Epoch 2: 100%|██████████| 22/22 [00:01<00:00, 17.53it/s]\n",
      "Validation Epoch 2: 100%|██████████| 9/9 [00:00<00:00, 28.88it/s]\n",
      "Train Epoch 3: 100%|██████████| 22/22 [00:01<00:00, 20.78it/s]\n",
      "Validation Epoch 3: 100%|██████████| 9/9 [00:00<00:00, 33.39it/s]\n",
      "Train Epoch 4: 100%|██████████| 22/22 [00:01<00:00, 21.41it/s]\n",
      "Validation Epoch 4: 100%|██████████| 9/9 [00:00<00:00, 22.95it/s]\n",
      "Train Epoch 5: 100%|██████████| 22/22 [00:01<00:00, 20.87it/s]\n",
      "Validation Epoch 5: 100%|██████████| 9/9 [00:00<00:00, 33.33it/s]\n",
      "Train Epoch 6: 100%|██████████| 22/22 [00:01<00:00, 19.82it/s]\n",
      "Validation Epoch 6: 100%|██████████| 9/9 [00:00<00:00, 22.50it/s]\n",
      "Train Epoch 7: 100%|██████████| 22/22 [00:00<00:00, 23.55it/s]\n",
      "Validation Epoch 7: 100%|██████████| 9/9 [00:00<00:00, 22.41it/s]\n",
      "Train Epoch 8: 100%|██████████| 22/22 [00:01<00:00, 19.96it/s]\n",
      "Validation Epoch 8: 100%|██████████| 9/9 [00:00<00:00, 32.44it/s]\n",
      "Train Epoch 9: 100%|██████████| 22/22 [00:01<00:00, 18.54it/s]\n",
      "Validation Epoch 9: 100%|██████████| 9/9 [00:00<00:00, 21.34it/s]\n",
      "Train Epoch 10: 100%|██████████| 22/22 [00:01<00:00, 20.08it/s]\n",
      "Validation Epoch 10: 100%|██████████| 9/9 [00:00<00:00, 27.96it/s]\n"
     ]
    }
   ],
   "execution_count": 55
  },
  {
   "cell_type": "code",
   "id": "17fa3816",
   "metadata": {
    "ExecuteTime": {
     "end_time": "2024-09-29T20:22:20.174569Z",
     "start_time": "2024-09-29T20:22:20.125374Z"
    }
   },
   "source": [
    "# Plot training and val losses over epochs\n",
    "import matplotlib.pyplot as plt\n",
    "plt.plot(range(1, epochs + 1), training_losses, label=\"Training loss\")\n",
    "plt.plot(range(1, epochs + 1), val_losses, label=\"Validation loss\")\n",
    "plt.xlabel(\"Epoch\")\n",
    "plt.ylabel(\"Loss\")\n",
    "plt.legend()\n",
    "plt.show()\n",
    "\n",
    "# print(\"Training loss: \", training_losses)\n",
    "# print(\"Validation loss: \", val_losses)"
   ],
   "outputs": [
    {
     "data": {
      "text/plain": [
       "<Figure size 640x480 with 1 Axes>"
      ],
      "image/png": "[encoded data removed]"
     },
     "metadata": {},
     "output_type": "display_data"
    }
   ],
   "execution_count": 56
  },
  {
   "cell_type": "code",
   "execution_count": 24,
   "id": "017fdaaa",
   "metadata": {},
   "outputs": [],
   "source": [
    "from eval import normalize_embeddings"
   ]
  },
  {
   "cell_type": "code",
   "execution_count": null,
   "id": "b0839f07",
   "metadata": {},
   "outputs": [],
   "source": []
  }
 ],
 "metadata": {
  "kernelspec": {
   "display_name": "Python 3 (ipykernel)",
   "language": "python",
   "name": "python3"
  },
  "language_info": {
   "codemirror_mode": {
    "name": "ipython",
    "version": 3
   },
   "file_extension": ".py",
   "mimetype": "text/x-python",
   "name": "python",
   "nbconvert_exporter": "python",
   "pygments_lexer": "ipython3",
   "version": "3.11.7"
  }
 },
 "nbformat": 4,
 "nbformat_minor": 5
}
